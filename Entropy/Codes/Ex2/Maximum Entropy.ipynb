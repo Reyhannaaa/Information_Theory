{
 "cells": [
  {
   "cell_type": "code",
   "execution_count": 1,
   "id": "60bc3e39",
   "metadata": {},
   "outputs": [],
   "source": [
    "import numpy as np\n",
    "from sympy import symbols, Eq, solve\n",
    "import matplotlib.pyplot as plt"
   ]
  },
  {
   "cell_type": "code",
   "execution_count": 2,
   "id": "c5006c62",
   "metadata": {},
   "outputs": [
    {
     "data": {
      "text/plain": [
       "4.0"
      ]
     },
     "execution_count": 2,
     "metadata": {},
     "output_type": "execute_result"
    }
   ],
   "source": [
    "cost = np.array([5, 3, 7, 1, 4])\n",
    "mean = cost.mean()\n",
    "mean"
   ]
  },
  {
   "cell_type": "code",
   "execution_count": 3,
   "id": "9bcaed84",
   "metadata": {},
   "outputs": [],
   "source": [
    "# eq1 = cost[i]*(b**cost[i]) + cost[1]*(b**cost[1]) + ... + cost[n]*(b**cost[n])"
   ]
  },
  {
   "cell_type": "code",
   "execution_count": 4,
   "id": "48574d04",
   "metadata": {},
   "outputs": [],
   "source": [
    "# eq2 = (b**cost[0]) + (b**cost[1]) + ... + (b**cost[n])"
   ]
  },
  {
   "cell_type": "code",
   "execution_count": 5,
   "id": "6dd68d50",
   "metadata": {},
   "outputs": [],
   "source": [
    "b = symbols('b')"
   ]
  },
  {
   "cell_type": "code",
   "execution_count": 6,
   "id": "a9b27ea3",
   "metadata": {},
   "outputs": [],
   "source": [
    "eq1 = 0\n",
    "eq2 = 0\n",
    "for i in cost:\n",
    "    eq1 = eq1 + i*(b**i)\n",
    "    eq2 = eq2 + (b**i)"
   ]
  },
  {
   "cell_type": "markdown",
   "id": "b1fd3f90",
   "metadata": {},
   "source": [
    "### when miu is equal to arithmetic average"
   ]
  },
  {
   "cell_type": "code",
   "execution_count": 17,
   "id": "0fb07a7d",
   "metadata": {},
   "outputs": [
    {
     "name": "stdout",
     "output_type": "stream",
     "text": [
      "[-1, 0, 1, -sqrt(-2/3 - sqrt(5)*I/3), sqrt(-2/3 - sqrt(5)*I/3), -sqrt(-2/3 + sqrt(5)*I/3), sqrt(-2/3 + sqrt(5)*I/3)]\n"
     ]
    }
   ],
   "source": [
    "miu1 = 4\n",
    "sol = solve(Eq(eq1, miu1*eq2), b)\n",
    "print(sol)"
   ]
  },
  {
   "cell_type": "code",
   "execution_count": 18,
   "id": "f80c6cad",
   "metadata": {},
   "outputs": [],
   "source": [
    "betha = abs(sol[0])"
   ]
  },
  {
   "cell_type": "code",
   "execution_count": 19,
   "id": "b9db177e",
   "metadata": {},
   "outputs": [
    {
     "name": "stdout",
     "output_type": "stream",
     "text": [
      "1\n"
     ]
    }
   ],
   "source": [
    "print(betha)"
   ]
  },
  {
   "cell_type": "code",
   "execution_count": 20,
   "id": "33f6d0e5",
   "metadata": {},
   "outputs": [],
   "source": [
    "all_probs = 0\n",
    "for i in cost:\n",
    "    all_probs = all_probs + (betha**i)"
   ]
  },
  {
   "cell_type": "code",
   "execution_count": 21,
   "id": "668903dd",
   "metadata": {},
   "outputs": [],
   "source": [
    "def probs(cost,sol,all_probs):\n",
    "    b = abs(sol[0])\n",
    "    p = []\n",
    "    for i in cost:\n",
    "        pi = (b**i)/all_probs\n",
    "        p.append(pi)\n",
    "    return p"
   ]
  },
  {
   "cell_type": "code",
   "execution_count": 22,
   "id": "64ecd081",
   "metadata": {},
   "outputs": [],
   "source": [
    "p1 = probs(cost, sol, all_probs)"
   ]
  },
  {
   "cell_type": "code",
   "execution_count": 23,
   "id": "10b0fdad",
   "metadata": {},
   "outputs": [
    {
     "data": {
      "text/plain": [
       "[1/5, 1/5, 1/5, 1/5, 1/5]"
      ]
     },
     "execution_count": 23,
     "metadata": {},
     "output_type": "execute_result"
    }
   ],
   "source": [
    "p1"
   ]
  },
  {
   "cell_type": "code",
   "execution_count": 25,
   "id": "aab5f47c",
   "metadata": {},
   "outputs": [
    {
     "data": {
      "image/png": "[encoded data removed]",
      "text/plain": [
       "<Figure size 432x288 with 1 Axes>"
      ]
     },
     "metadata": {
      "needs_background": "light"
     },
     "output_type": "display_data"
    }
   ],
   "source": [
    "plt.plot(cost, p1)\n",
    "plt.xlabel('cost')\n",
    "plt.ylabel('p')\n",
    "plt.show()"
   ]
  },
  {
   "cell_type": "code",
   "execution_count": 24,
   "id": "b40c1da3",
   "metadata": {},
   "outputs": [
    {
     "data": {
      "image/png": "[encoded data removed]",
      "text/plain": [
       "<Figure size 432x288 with 1 Axes>"
      ]
     },
     "metadata": {
      "needs_background": "light"
     },
     "output_type": "display_data"
    }
   ],
   "source": [
    "plt.scatter(cost, p1)\n",
    "plt.xlabel('cost')\n",
    "plt.ylabel('p')\n",
    "plt.show()"
   ]
  },
  {
   "cell_type": "markdown",
   "id": "db993f5c",
   "metadata": {},
   "source": [
    "### when miu is bigger than arithmetic average"
   ]
  },
  {
   "cell_type": "code",
   "execution_count": 26,
   "id": "fc468a0e",
   "metadata": {},
   "outputs": [
    {
     "name": "stdout",
     "output_type": "stream",
     "text": [
      "[-1.07879641999169, 0.0, 1.13457556261150, -0.437251406380258 - 0.972844750332826*I, -0.437251406380258 + 0.972844750332826*I, 0.40936183507035 - 0.915352777717195*I, 0.40936183507035 + 0.915352777717195*I]\n"
     ]
    }
   ],
   "source": [
    "miu2 = 4.5\n",
    "sol = solve(Eq(eq1, miu2*eq2), b)\n",
    "print(sol)"
   ]
  },
  {
   "cell_type": "code",
   "execution_count": 27,
   "id": "de78109e",
   "metadata": {},
   "outputs": [],
   "source": [
    "betha = abs(sol[0])"
   ]
  },
  {
   "cell_type": "code",
   "execution_count": 28,
   "id": "f99ad119",
   "metadata": {},
   "outputs": [
    {
     "name": "stdout",
     "output_type": "stream",
     "text": [
      "1.07879641999169\n"
     ]
    }
   ],
   "source": [
    "print(betha)"
   ]
  },
  {
   "cell_type": "code",
   "execution_count": 29,
   "id": "501ee1ad",
   "metadata": {},
   "outputs": [],
   "source": [
    "all_probs = 0\n",
    "for i in cost:\n",
    "    all_probs = all_probs + (betha**i)"
   ]
  },
  {
   "cell_type": "code",
   "execution_count": 30,
   "id": "3f3b6cd5",
   "metadata": {},
   "outputs": [],
   "source": [
    "def probs(cost,sol,all_probs):\n",
    "    b = abs(sol[0])\n",
    "    p = []\n",
    "    for i in cost:\n",
    "        pi = (b**i)/all_probs\n",
    "        p.append(pi)\n",
    "    return p"
   ]
  },
  {
   "cell_type": "code",
   "execution_count": 31,
   "id": "fb0223c7",
   "metadata": {},
   "outputs": [],
   "source": [
    "p2 = probs(cost, sol, all_probs)"
   ]
  },
  {
   "cell_type": "code",
   "execution_count": 32,
   "id": "2d743e43",
   "metadata": {},
   "outputs": [
    {
     "data": {
      "text/plain": [
       "[0.213295605990214,\n",
       " 0.183274868129919,\n",
       " 0.248233792221214,\n",
       " 0.157479462045647,\n",
       " 0.197716271613005]"
      ]
     },
     "execution_count": 32,
     "metadata": {},
     "output_type": "execute_result"
    }
   ],
   "source": [
    "p2"
   ]
  },
  {
   "cell_type": "code",
   "execution_count": 34,
   "id": "0a6ccb82",
   "metadata": {},
   "outputs": [
    {
     "data": {
      "image/png": "[encoded data removed]",
      "text/plain": [
       "<Figure size 432x288 with 1 Axes>"
      ]
     },
     "metadata": {
      "needs_background": "light"
     },
     "output_type": "display_data"
    }
   ],
   "source": [
    "plt.scatter(cost, p2)\n",
    "plt.xlabel('cost')\n",
    "plt.ylabel('p')\n",
    "plt.show()"
   ]
  },
  {
   "cell_type": "markdown",
   "id": "e25392ba",
   "metadata": {},
   "source": [
    "### when miu is smaller than arithmetic average"
   ]
  },
  {
   "cell_type": "code",
   "execution_count": 7,
   "id": "9187bc26",
   "metadata": {},
   "outputs": [
    {
     "name": "stdout",
     "output_type": "stream",
     "text": [
      "[-0.883754681412134, 0.0, 0.814401928913224, -0.371807217611442 - 0.820477426201656*I, -0.371807217611442 + 0.820477426201656*I, 0.406483593860896 - 0.908904253556763*I, 0.406483593860896 + 0.908904253556763*I]\n"
     ]
    }
   ],
   "source": [
    "miu3 = 3.2\n",
    "sol = solve(Eq(eq1, miu3*eq2), b)\n",
    "print(sol)"
   ]
  },
  {
   "cell_type": "code",
   "execution_count": 8,
   "id": "cc9c8067",
   "metadata": {},
   "outputs": [],
   "source": [
    "betha = abs(sol[0])"
   ]
  },
  {
   "cell_type": "code",
   "execution_count": 9,
   "id": "cd593478",
   "metadata": {},
   "outputs": [
    {
     "name": "stdout",
     "output_type": "stream",
     "text": [
      "0.883754681412134\n"
     ]
    }
   ],
   "source": [
    "print(betha)"
   ]
  },
  {
   "cell_type": "code",
   "execution_count": 10,
   "id": "830ed547",
   "metadata": {},
   "outputs": [],
   "source": [
    "all_probs = 0\n",
    "for i in cost:\n",
    "    all_probs = all_probs + (betha**i)"
   ]
  },
  {
   "cell_type": "code",
   "execution_count": 11,
   "id": "54004603",
   "metadata": {},
   "outputs": [],
   "source": [
    "def probs(cost,sol,all_probs):\n",
    "    b = abs(sol[0])\n",
    "    p = []\n",
    "    for i in cost:\n",
    "        pi = (b**i)/all_probs\n",
    "        p.append(pi)\n",
    "    return p"
   ]
  },
  {
   "cell_type": "code",
   "execution_count": 12,
   "id": "f2904394",
   "metadata": {},
   "outputs": [],
   "source": [
    "p3 = probs(cost, sol, all_probs)"
   ]
  },
  {
   "cell_type": "code",
   "execution_count": 13,
   "id": "6c4cc759",
   "metadata": {},
   "outputs": [
    {
     "data": {
      "text/plain": [
       "[0.171459341438099,\n",
       " 0.219531930565170,\n",
       " 0.133913575536382,\n",
       " 0.281082781103938,\n",
       " 0.194012371356412]"
      ]
     },
     "execution_count": 13,
     "metadata": {},
     "output_type": "execute_result"
    }
   ],
   "source": [
    "p3"
   ]
  },
  {
   "cell_type": "code",
   "execution_count": 16,
   "id": "b0ee05d5",
   "metadata": {},
   "outputs": [
    {
     "data": {
      "image/png": "[encoded data removed]",
      "text/plain": [
       "<Figure size 432x288 with 1 Axes>"
      ]
     },
     "metadata": {
      "needs_background": "light"
     },
     "output_type": "display_data"
    }
   ],
   "source": [
    "plt.scatter(cost, p3)\n",
    "plt.xlabel('cost')\n",
    "plt.ylabel('p')\n",
    "plt.show()"
   ]
  },
  {
   "cell_type": "code",
   "execution_count": null,
   "id": "d59e8334",
   "metadata": {},
   "outputs": [],
   "source": []
  }
 ],
 "metadata": {
  "kernelspec": {
   "display_name": "Python 3 (ipykernel)",
   "language": "python",
   "name": "python3"
  },
  "language_info": {
   "codemirror_mode": {
    "name": "ipython",
    "version": 3
   },
   "file_extension": ".py",
   "mimetype": "text/x-python",
   "name": "python",
   "nbconvert_exporter": "python",
   "pygments_lexer": "ipython3",
   "version": "3.9.7"
  }
 },
 "nbformat": 4,
 "nbformat_minor": 5
}
