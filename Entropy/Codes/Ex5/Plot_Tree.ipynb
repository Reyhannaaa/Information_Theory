{
 "cells": [
  {
   "cell_type": "code",
   "execution_count": 1,
   "id": "59b646f4",
   "metadata": {},
   "outputs": [],
   "source": [
    "import pandas as pd\n",
    "import numpy as np\n",
    "from sklearn.tree import DecisionTreeClassifier\n",
    "from sklearn.metrics import accuracy_score, precision_score, recall_score"
   ]
  },
  {
   "cell_type": "code",
   "execution_count": 2,
   "id": "4e42ac9a",
   "metadata": {},
   "outputs": [
    {
     "data": {
      "text/html": [
       "<div>\n",
       "<style scoped>\n",
       "    .dataframe tbody tr th:only-of-type {\n",
       "        vertical-align: middle;\n",
       "    }\n",
       "\n",
       "    .dataframe tbody tr th {\n",
       "        vertical-align: top;\n",
       "    }\n",
       "\n",
       "    .dataframe thead th {\n",
       "        text-align: right;\n",
       "    }\n",
       "</style>\n",
       "<table border=\"1\" class=\"dataframe\">\n",
       "  <thead>\n",
       "    <tr style=\"text-align: right;\">\n",
       "      <th></th>\n",
       "      <th>X1</th>\n",
       "      <th>X2</th>\n",
       "      <th>X3</th>\n",
       "      <th>C</th>\n",
       "    </tr>\n",
       "  </thead>\n",
       "  <tbody>\n",
       "    <tr>\n",
       "      <th>0</th>\n",
       "      <td>30</td>\n",
       "      <td>0</td>\n",
       "      <td>10</td>\n",
       "      <td>0</td>\n",
       "    </tr>\n",
       "    <tr>\n",
       "      <th>1</th>\n",
       "      <td>30</td>\n",
       "      <td>0</td>\n",
       "      <td>70</td>\n",
       "      <td>0</td>\n",
       "    </tr>\n",
       "    <tr>\n",
       "      <th>2</th>\n",
       "      <td>30</td>\n",
       "      <td>1</td>\n",
       "      <td>20</td>\n",
       "      <td>0</td>\n",
       "    </tr>\n",
       "    <tr>\n",
       "      <th>3</th>\n",
       "      <td>30</td>\n",
       "      <td>1</td>\n",
       "      <td>80</td>\n",
       "      <td>1</td>\n",
       "    </tr>\n",
       "    <tr>\n",
       "      <th>4</th>\n",
       "      <td>60</td>\n",
       "      <td>0</td>\n",
       "      <td>40</td>\n",
       "      <td>0</td>\n",
       "    </tr>\n",
       "    <tr>\n",
       "      <th>5</th>\n",
       "      <td>60</td>\n",
       "      <td>0</td>\n",
       "      <td>60</td>\n",
       "      <td>1</td>\n",
       "    </tr>\n",
       "    <tr>\n",
       "      <th>6</th>\n",
       "      <td>60</td>\n",
       "      <td>1</td>\n",
       "      <td>50</td>\n",
       "      <td>0</td>\n",
       "    </tr>\n",
       "    <tr>\n",
       "      <th>7</th>\n",
       "      <td>60</td>\n",
       "      <td>1</td>\n",
       "      <td>60</td>\n",
       "      <td>1</td>\n",
       "    </tr>\n",
       "  </tbody>\n",
       "</table>\n",
       "</div>"
      ],
      "text/plain": [
       "   X1  X2  X3  C\n",
       "0  30   0  10  0\n",
       "1  30   0  70  0\n",
       "2  30   1  20  0\n",
       "3  30   1  80  1\n",
       "4  60   0  40  0\n",
       "5  60   0  60  1\n",
       "6  60   1  50  0\n",
       "7  60   1  60  1"
      ]
     },
     "execution_count": 2,
     "metadata": {},
     "output_type": "execute_result"
    }
   ],
   "source": [
    "data = {'X1': [30,30,30,30,60,60,60,60],\n",
    "        'X2': [0,0,1,1,0,0,1,1],\n",
    "        'X3': [10,70,20,80,40,60,50,60],\n",
    "        'C': [0,0,0,1,0,1,0,1]}\n",
    "\n",
    "df = pd.DataFrame(data)\n",
    "df"
   ]
  },
  {
   "cell_type": "code",
   "execution_count": 3,
   "id": "990417ab",
   "metadata": {},
   "outputs": [
    {
     "name": "stdout",
     "output_type": "stream",
     "text": [
      "Threshold: 1.0000, Precision: 1.0000, Recall: 1.0000, F1-Score: 1.0000\n",
      "Threshold: 1.0000, Precision: 1.0000, Recall: 1.0000, F1-Score: 1.0000\n",
      "Threshold: 1.0000, Precision: 1.0000, Recall: 1.0000, F1-Score: 1.0000\n",
      "Threshold: 0.0000, Precision: 0.3750, Recall: 1.0000, F1-Score: 0.5455\n",
      "Threshold: 0.0000, Precision: 0.3750, Recall: 1.0000, F1-Score: 0.5455\n",
      "Threshold: 0.0000, Precision: 0.3750, Recall: 1.0000, F1-Score: 0.5455\n",
      "Threshold: 0.0000, Precision: 0.3750, Recall: 1.0000, F1-Score: 0.5455\n",
      "Threshold: 0.0000, Precision: 0.3750, Recall: 1.0000, F1-Score: 0.5455\n",
      "Best Threshold: 1.0000, Best F1-Score: 1.0000\n"
     ]
    }
   ],
   "source": [
    "# Split the dataset into features (X) and the target (y)\n",
    "X = df[['X1', 'X2', 'X3']]\n",
    "y = df['C']\n",
    "\n",
    "# Create a Decision Tree classifier\n",
    "classifier = DecisionTreeClassifier(random_state=0)\n",
    "classifier.fit(X, y)\n",
    "\n",
    "# Get predicted probabilities for the positive class (class 1)\n",
    "predicted_probabilities = classifier.predict_proba(X)[:, 1]\n",
    "\n",
    "# Sort the predicted probabilities and associated labels\n",
    "sorted_probs, sorted_labels = zip(*sorted(zip(predicted_probabilities, y), reverse=True))\n",
    "\n",
    "# Initialize variables to keep track of best threshold and performance\n",
    "best_threshold = None\n",
    "best_f1_score = 0.0\n",
    "\n",
    "# Iterate over sorted probabilities to find the threshold\n",
    "for i in range(len(sorted_probs)):\n",
    "    threshold = sorted_probs[i]\n",
    "    predicted_labels = [1 if prob >= threshold else 0 for prob in predicted_probabilities]\n",
    "    \n",
    "    # Calculate precision, recall, and F1-score\n",
    "    precision = precision_score(y, predicted_labels)\n",
    "    recall = recall_score(y, predicted_labels)\n",
    "    f1_score = 2 * (precision * recall) / (precision + recall) if precision + recall > 0 else 0.0\n",
    "    \n",
    "    # Update best threshold if F1-score improves\n",
    "    if f1_score > best_f1_score:\n",
    "        best_threshold = threshold\n",
    "        best_f1_score = f1_score\n",
    "\n",
    "    print(f\"Threshold: {threshold:.4f}, Precision: {precision:.4f}, Recall: {recall:.4f}, F1-Score: {f1_score:.4f}\")\n",
    "\n",
    "print(f\"Best Threshold: {best_threshold:.4f}, Best F1-Score: {best_f1_score:.4f}\")\n"
   ]
  },
  {
   "cell_type": "code",
   "execution_count": 4,
   "id": "f65e5b88",
   "metadata": {},
   "outputs": [
    {
     "data": {
      "text/plain": [
       "'tree.pdf'"
      ]
     },
     "execution_count": 4,
     "metadata": {},
     "output_type": "execute_result"
    }
   ],
   "source": [
    "import graphviz\n",
    "from sklearn.tree import export_graphviz\n",
    "\n",
    "# Export the decision tree to DOT format\n",
    "dot_data = export_graphviz(classifier, out_file=None, \n",
    "                           feature_names=X.columns,  \n",
    "                           class_names=[\"Class 0\", \"Class 1\"],  \n",
    "                           filled=True, rounded=True,  \n",
    "                           special_characters=True)\n",
    "\n",
    "# Replace the default node attributes in the DOT data\n",
    "dot_data = dot_data.replace('node [shape=box, ', 'node [shape=square, style=filled, fillcolor=\"#0000000\", ')\n",
    "\n",
    "# Create a Graphviz graph from the modified DOT data\n",
    "graph = graphviz.Source(dot_data)\n",
    "\n",
    "# Render the graph to a file (e.g., \"tree.png\")\n",
    "graph.render(\"tree\")\n",
    "\n",
    "# Display the graph in a Jupyter Notebook\n",
    "graph.view()\n",
    "\n"
   ]
  },
  {
   "cell_type": "code",
   "execution_count": null,
   "id": "6ca1dfb6",
   "metadata": {},
   "outputs": [],
   "source": []
  }
 ],
 "metadata": {
  "kernelspec": {
   "display_name": "Python 3 (ipykernel)",
   "language": "python",
   "name": "python3"
  },
  "language_info": {
   "codemirror_mode": {
    "name": "ipython",
    "version": 3
   },
   "file_extension": ".py",
   "mimetype": "text/x-python",
   "name": "python",
   "nbconvert_exporter": "python",
   "pygments_lexer": "ipython3",
   "version": "3.9.7"
  }
 },
 "nbformat": 4,
 "nbformat_minor": 5
}
