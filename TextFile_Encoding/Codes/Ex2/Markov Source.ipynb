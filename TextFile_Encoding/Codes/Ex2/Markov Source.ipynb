{
 "cells": [
  {
   "cell_type": "markdown",
   "id": "b9abb791",
   "metadata": {},
   "source": [
    "### Importing useful libraries"
   ]
  },
  {
   "cell_type": "code",
   "execution_count": 1,
   "id": "98732bda",
   "metadata": {},
   "outputs": [],
   "source": [
    "import numpy as np\n",
    "import math"
   ]
  },
  {
   "cell_type": "markdown",
   "id": "90ca2bd0",
   "metadata": {},
   "source": [
    "### Size of the alphabet and number of states\n",
    "\n",
    "##### In this part, we're setting up the parameters for the Markov chain. alphabet_size is the size of the alphabet, and n_states is the total number of states in the Markov chain (which is alphabet_size raised to the power of 3, considering a 3-step history)."
   ]
  },
  {
   "cell_type": "code",
   "execution_count": 9,
   "id": "1e1c2727",
   "metadata": {},
   "outputs": [],
   "source": [
    "alphabet_size = 5\n",
    "memory_len = 3\n",
    "n_states = np.power(alphabet_size,memory_len)"
   ]
  },
  {
   "cell_type": "markdown",
   "id": "60bb883b",
   "metadata": {},
   "source": [
    "### Define the conditional probability function\n",
    "\n",
    "##### The conditional probability is calculated using the given formula."
   ]
  },
  {
   "cell_type": "code",
   "execution_count": 5,
   "id": "c146f4ab",
   "metadata": {},
   "outputs": [],
   "source": [
    "def conditional_probability(x_values, Xn):\n",
    "    max_x = max(x_values)\n",
    "    return (np.power(max_x,(Xn/5)))"
   ]
  },
  {
   "cell_type": "markdown",
   "id": "3df5e408",
   "metadata": {},
   "source": [
    "### Calculating the transition matrix\n",
    "\n",
    "#####  It iterates over all possible combinations of i, j, and k representing the current state, and for each combination, it calculates the conditional probability for transitioning to each possible next state Xn. The index_d represents the departure state, and index_a represents the arrival state. After calculating the probabilities, each row of the transition matrix is normalized to ensure that the probabilities for each departure state sum to 1."
   ]
  },
  {
   "cell_type": "code",
   "execution_count": 6,
   "id": "638d56e9",
   "metadata": {},
   "outputs": [],
   "source": [
    "#initialize transition matrix\n",
    "t_matrix = np.zeros((n_states, n_states))\n",
    "\n",
    "#transition matrix calculation based on the specified conditional probability\n",
    "for i in range(alphabet_size):\n",
    "    for j in range(alphabet_size):\n",
    "        for k in range(alphabet_size):\n",
    "            \n",
    "            # d is the departure state in matrix\n",
    "            index_d = i*np.power(alphabet_size,2) + j*alphabet_size + k \n",
    "            \n",
    "            #define sum_row to add every item in a row to use it for the normalization\n",
    "            sum_row = 0\n",
    "\n",
    "            for Xn in range(alphabet_size):\n",
    "                \n",
    "                # a is the arrival state in matrix\n",
    "                index_a = j*np.power(alphabet_size,2) + k*alphabet_size + Xn \n",
    "                \n",
    "                #check each vector to find the maximum as the function said\n",
    "                vec = [i+1, j+1, k+1]\n",
    "                t_matrix[index_d, index_a] = conditional_probability(vec, Xn+1)\n",
    "                \n",
    "                sum_row += t_matrix[index_d, index_a]\n",
    "\n",
    "            #normalization\n",
    "            t_matrix[index_d, :] /= sum_row"
   ]
  },
  {
   "cell_type": "markdown",
   "id": "63f729d6",
   "metadata": {},
   "source": [
    "### Calculate the asymptotic stationary distribution\n",
    "\n",
    "##### This section performs the eigenvalue decomposition of the transpose of the transition matrix t_matrix. The eigenvalues and eigenvectors of the transposed matrix are computed. And then it identifies the index where the eigenvalue is close to 1. In a Markov chain, the stationary distribution corresponds to the eigenvector associated with the eigenvalue 1. Then it extracts the eigenvector associated with the eigenvalue 1 from the eigenvectors array. The .real ensures that only the real part is considered, as eigenvectors may have complex components. Then The extracted eigenvector is normalized, ensuring that the elements of the stationary distribution sum to 1."
   ]
  },
  {
   "cell_type": "code",
   "execution_count": 7,
   "id": "0f71b71d",
   "metadata": {},
   "outputs": [
    {
     "name": "stdout",
     "output_type": "stream",
     "text": [
      "Asymptotic Stationary State Distribution:\n",
      "[0.00132627 0.00162124 0.00200606 0.00250985 0.00317157 0.0016431\n",
      " 0.00207275 0.00262861 0.00335089 0.00429325 0.00203539 0.00264435\n",
      " 0.00344212 0.00448928 0.00586645 0.00251736 0.00336699 0.00450529\n",
      " 0.00603103 0.00807702 0.00309341 0.00426807 0.00588878 0.00812492\n",
      " 0.0112102  0.00167142 0.00210666 0.00266935 0.00339997 0.00435254\n",
      " 0.00219678 0.00277579 0.00352596 0.00450201 0.00577707 0.00273798\n",
      " 0.00355989 0.00463749 0.00605306 0.00791622 0.00340102 0.00455019\n",
      " 0.00609027 0.00815518 0.01092504 0.00419239 0.00578436 0.00798086\n",
      " 0.01101143 0.01519279 0.00207824 0.00269845 0.00351044 0.00457562\n",
      " 0.00597564 0.00276443 0.00359332 0.00467976 0.00610655 0.00798395\n",
      " 0.00368326 0.00479273 0.00624852 0.00816244 0.01068354 0.00460931\n",
      " 0.00616828 0.00825812 0.01106086 0.01482147 0.00571399 0.00788376\n",
      " 0.01087746 0.01500795 0.02070692 0.00254127 0.00339854 0.00454692\n",
      " 0.00608596 0.0081495  0.00343189 0.00459093 0.00614403 0.00822611\n",
      " 0.01101864 0.00463694 0.00620474 0.00830622 0.01112434 0.01490523\n",
      " 0.00626822 0.00838999 0.01123487 0.01505108 0.02017262 0.00785283\n",
      " 0.01083478 0.01494907 0.02062568 0.02845786 0.00301778 0.00416373\n",
      " 0.00574482 0.00792629 0.01093614 0.00416373 0.00574482 0.00792629\n",
      " 0.01093614 0.01508892 0.00574482 0.00792629 0.01093614 0.01508892\n",
      " 0.02081863 0.00792629 0.01093614 0.01508892 0.02081863 0.02872408\n",
      " 0.01093614 0.01508892 0.02081863 0.02872408 0.03963146]\n"
     ]
    }
   ],
   "source": [
    "eigenvalues, eigenvectors = np.linalg.eig(t_matrix.T)\n",
    "index = np.where(np.isclose(eigenvalues, 1))[0][0]\n",
    "asymptotic_stationary_vector = eigenvectors[:, index].real\n",
    "asymptotic_stationary_distribution = asymptotic_stationary_vector / asymptotic_stationary_vector.sum()\n",
    "\n",
    "print(\"Asymptotic Stationary State Distribution:\")\n",
    "print(asymptotic_stationary_distribution)"
   ]
  },
  {
   "cell_type": "markdown",
   "id": "11ad7d93",
   "metadata": {},
   "source": [
    "### Calculate the entropy rate\n",
    "\n",
    "##### We should perform elementwise multiplication between the asymptotic stationary distribution (asymptotic_stationary_distribution) and the transition matrix (t_matrix). The result is a matrix where each element is the product of the corresponding elements in the two matrices.\n",
    "##### The transition matrix t_matrix is subjected to a logarithmic transformation using the base 2 logarithm (np.log2). The small constant 1e-10 is added to avoid taking the logarithm of zero, which could lead to undefined values.\n",
    "##### Then we multiply the result from step 1 with the logarithmic transformation from step 2. The result is a matrix where each element is the product of the corresponding elements in the matrices.\n",
    "##### After all the negative sum of all elements in the resulting matrix is calculated. The negative sign is applied because entropy is typically defined with a negative sign in information theory.\n"
   ]
  },
  {
   "cell_type": "code",
   "execution_count": 8,
   "id": "f0319996",
   "metadata": {},
   "outputs": [
    {
     "name": "stdout",
     "output_type": "stream",
     "text": [
      "Entropy Rate:\n",
      "2.3407333515602926\n"
     ]
    }
   ],
   "source": [
    "entropy_rate = -np.sum(asymptotic_stationary_distribution * t_matrix * np.log2(t_matrix + 1e-10 #small constant added to avoid log(0)\n",
    "                                      ))\n",
    "\n",
    "print(\"Entropy Rate:\")\n",
    "print(entropy_rate)"
   ]
  },
  {
   "cell_type": "code",
   "execution_count": null,
   "id": "c89eb1cf",
   "metadata": {},
   "outputs": [],
   "source": []
  }
 ],
 "metadata": {
  "kernelspec": {
   "display_name": "Python 3 (ipykernel)",
   "language": "python",
   "name": "python3"
  },
  "language_info": {
   "codemirror_mode": {
    "name": "ipython",
    "version": 3
   },
   "file_extension": ".py",
   "mimetype": "text/x-python",
   "name": "python",
   "nbconvert_exporter": "python",
   "pygments_lexer": "ipython3",
   "version": "3.9.7"
  }
 },
 "nbformat": 4,
 "nbformat_minor": 5
}
