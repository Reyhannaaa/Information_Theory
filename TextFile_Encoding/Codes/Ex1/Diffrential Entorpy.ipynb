{
  "nbformat": 4,
  "nbformat_minor": 0,
  "metadata": {
    "colab": {
      "provenance": []
    },
    "kernelspec": {
      "name": "python3",
      "display_name": "Python 3"
    },
    "language_info": {
      "name": "python"
    }
  },
  "cells": [
    {
      "cell_type": "code",
      "execution_count": 12,
      "metadata": {
        "colab": {
          "base_uri": "https://localhost:8080/"
        },
        "id": "LHWfbJT7OUxP",
        "outputId": "68e09fea-1aae-4182-85f4-ec09634c6a94"
      },
      "outputs": [
        {
          "output_type": "stream",
          "name": "stdout",
          "text": [
            "Differential entropy for n=20: 2.8999283285022166\n",
            "Differential entropy for n=21: 2.9251366096789346\n",
            "Differential entropy for n=22: 2.949135055027697\n",
            "Differential entropy for n=23: 2.9720344683955506\n",
            "Differential entropy for n=24: 2.9939310988820313\n",
            "Differential entropy for n=25: 3.01490908292018\n",
            "Differential entropy for n=26: 3.0350423948145835\n",
            "Differential entropy for n=27: 3.0543964198632594\n",
            "Differential entropy for n=28: 3.0730292344371\n",
            "Differential entropy for n=29: 3.0909926561466516\n",
            "Differential entropy for n=30: 3.1083331119513096\n"
          ]
        }
      ],
      "source": [
        "\"\"\"\n",
        "numpy (as np): A library for numerical operations in Python.\n",
        "quad from scipy.integrate: A function for numerical integration.\n",
        "gamma from scipy.special: The gamma function.\n",
        "\"\"\"\n",
        "#numpy (as np): A library for numerical operations in Python.\n",
        "import numpy as np\n",
        "#quad from scipy.integrate: A function for numerical integration.\n",
        "from scipy.integrate import quad\n",
        "#gamma from scipy.special: The gamma function.\n",
        "from scipy.special import gamma\n",
        "\"\"\"\n",
        "pdf(x, n):\n",
        "Defines a probability density function with parameters x and n using the gamma distribution formula.\n",
        "It returns the probability density for a given value x\"\"\"\n",
        "def pdf(x, n):\n",
        "    return (1/gamma(n)) * (x**(n-1)) * np.exp(-x) * (x >= 0)\n",
        "\"\"\"differential_entropy(n):\n",
        "Calculates the differential entropy for a given shape parameter n.\n",
        "Uses the quad function for numerical integration to evaluate the integral of the logarithm of the PDF.\n",
        "The lambda function integrand is the logarithm of the PDF,\n",
        "and a small epsilon (1e-10) is added to avoid issues with taking the logarithm of zero.\"\"\"\n",
        "def differential_entropy(n):\n",
        "    integrand = lambda x: pdf(x, n) * np.log(pdf(x, n) + 1e-10)  # Add a small epsilon to avoid log(0)\n",
        "    result, _ = quad(integrand, 0, np.inf)\n",
        "    return -result\n",
        "\"\"\"\n",
        "n_values = np.arange(5, 31, 1):\n",
        "Creates an array of shape parameters ranging from 5 to 30 (inclusive) with a step size of 1.\n",
        "\"\"\"\n",
        "n_values = np.arange(20,31,1)\n",
        "\"\"\"\n",
        "Iterates through each value of n in n_values.\n",
        "Calculates the differential entropy for each n using the differential_entropy function.\n",
        "Prints the result for each n.\n",
        "\"\"\"\n",
        "for n in n_values:\n",
        "  entropy = differential_entropy(n)\n",
        "  print(f\"Differential entropy for n={n}: {entropy}\")\n"
      ]
    }
  ]
}