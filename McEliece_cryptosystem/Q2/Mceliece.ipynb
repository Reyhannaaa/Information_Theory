{
  "nbformat": 4,
  "nbformat_minor": 0,
  "metadata": {
    "colab": {
      "provenance": []
    },
    "kernelspec": {
      "name": "python3",
      "display_name": "Python 3"
    },
    "language_info": {
      "name": "python"
    }
  },
  "cells": [
    {
      "cell_type": "markdown",
      "source": [
        "Import libraries and all the data we got by email"
      ],
      "metadata": {
        "id": "35sRvt7QchmD"
      }
    },
    {
      "cell_type": "code",
      "source": [
        "import numpy as np\n",
        "from numpy.linalg import inv"
      ],
      "metadata": {
        "id": "9BkjkhJxXLcW"
      },
      "execution_count": 1,
      "outputs": []
    },
    {
      "cell_type": "code",
      "source": [
        "# our ciphertext\n",
        "cipher = [0, 1, 0, 1, 0, 0, 1, 0, 1, 1, 1, 1, 0, 1, 0, 1, 0, 1, 0, 0, 0, 0, 1, 0, 1, 0, 1, 1, 1, 1, 0, 0, 1, 1, 1, 0, 1, 0, 1, 0, 0, 1, 0, 1, 1, 1, 1, 0, 0, 0, 1, 1, 1, 0, 1, 1, 0, 1, 1, 1, 1, 1, 0, 0, 0, 1, 1, 0, 0, 1, 1, 1, 1, 0, 1, 1, 1, 1, 1, 1, 1, 0, 0, 1]\n",
        "\n",
        "# matrix G, S, H, P\n",
        "G = np.array([[0, 1, 1, 0, 0, 1, 0],\n",
        "              [1, 1, 0, 1, 0, 0, 0],\n",
        "              [0, 0, 1, 0, 1, 1, 1],\n",
        "              [1, 0, 1, 0, 0, 0, 1]])\n",
        "\n",
        "H = np.array([[0, 1, 1],\n",
        "              [1, 0, 0],\n",
        "              [0, 0, 1],\n",
        "              [1, 1, 1],\n",
        "              [1, 1, 0],\n",
        "              [1, 0, 1],\n",
        "              [0, 1, 0]])\n",
        "\n",
        "S = np.array([[0, 0, 0, 1],\n",
        "              [1, 0, 0, 1],\n",
        "              [1, 0, 1, 1],\n",
        "              [0, 1, 0, 0]])\n",
        "\n",
        "\n",
        "P = np.array([\n",
        "    [0, 0, 0, 0, 0, 0, 1],\n",
        "    [0, 1, 0, 0, 0, 0, 0],\n",
        "    [0, 0, 1, 0, 0, 0, 0],\n",
        "    [0, 0, 0, 0, 1, 0, 0],\n",
        "    [0, 0, 0, 1, 0, 0, 0],\n",
        "    [1, 0, 0, 0, 0, 0, 0],\n",
        "    [0, 0, 0, 0, 0, 1, 0]\n",
        "])\n",
        "\n"
      ],
      "metadata": {
        "id": "t85k5CAWXRJU"
      },
      "execution_count": 2,
      "outputs": []
    },
    {
      "cell_type": "markdown",
      "source": [
        "Divide the cipher text into n-bit vectors"
      ],
      "metadata": {
        "id": "iOR4xe44c1re"
      }
    },
    {
      "cell_type": "code",
      "source": [
        "n = 7\n",
        "y = [cipher[i:i+n] for i in range(0, len(cipher), n)]\n",
        "print(\"\\n We devided our string into 7-bit vectors y: \\n\")\n",
        "print(y)\n",
        "\n",
        "# convert each y_i to a matrix\n",
        "y_matrices = [list(map(int, list(vector))) for vector in y]\n",
        "\n",
        "\n",
        "print(\"\\n Here are all the vectors: \\n\")\n",
        "# print the result\n",
        "for i, vector in enumerate(y_matrices, start=1):\n",
        "    print(f\"y{i}: {vector}\")"
      ],
      "metadata": {
        "colab": {
          "base_uri": "https://localhost:8080/"
        },
        "id": "eeuGy7MpcS97",
        "outputId": "cbfca6be-d07a-41cd-a222-da17cb69d5a1"
      },
      "execution_count": 3,
      "outputs": [
        {
          "output_type": "stream",
          "name": "stdout",
          "text": [
            "\n",
            " We devided our string into 7-bit vectors y: \n",
            "\n",
            "[[0, 1, 0, 1, 0, 0, 1], [0, 1, 1, 1, 1, 0, 1], [0, 1, 0, 1, 0, 0, 0], [0, 1, 0, 1, 0, 1, 1], [1, 1, 0, 0, 1, 1, 1], [0, 1, 0, 1, 0, 0, 1], [0, 1, 1, 1, 1, 0, 0], [0, 1, 1, 1, 0, 1, 1], [0, 1, 1, 1, 1, 1, 0], [0, 0, 1, 1, 0, 0, 1], [1, 1, 1, 0, 1, 1, 1], [1, 1, 1, 1, 0, 0, 1]]\n",
            "\n",
            " Here are all the vectors: \n",
            "\n",
            "y1: [0, 1, 0, 1, 0, 0, 1]\n",
            "y2: [0, 1, 1, 1, 1, 0, 1]\n",
            "y3: [0, 1, 0, 1, 0, 0, 0]\n",
            "y4: [0, 1, 0, 1, 0, 1, 1]\n",
            "y5: [1, 1, 0, 0, 1, 1, 1]\n",
            "y6: [0, 1, 0, 1, 0, 0, 1]\n",
            "y7: [0, 1, 1, 1, 1, 0, 0]\n",
            "y8: [0, 1, 1, 1, 0, 1, 1]\n",
            "y9: [0, 1, 1, 1, 1, 1, 0]\n",
            "y10: [0, 0, 1, 1, 0, 0, 1]\n",
            "y11: [1, 1, 1, 0, 1, 1, 1]\n",
            "y12: [1, 1, 1, 1, 0, 0, 1]\n"
          ]
        }
      ]
    },
    {
      "cell_type": "markdown",
      "source": [
        "Compute y_1 = yP^-1"
      ],
      "metadata": {
        "id": "8tf6M25RdDNL"
      }
    },
    {
      "cell_type": "code",
      "source": [
        "# inverse of matrix P\n",
        "P_inv = inv(P) % 2\n",
        "\n",
        "print(\"\\n P inverse:\")\n",
        "print(P_inv)\n",
        "\n",
        "\n",
        "# calculate y_1 = y * P^(-1) for each y_i\n",
        "y1_matrices = [np.dot(y_matrix, P_inv) for y_matrix in y_matrices]\n",
        "print(\"\\n We calculated y_1 = y * P^(-1) for each y_i: \\n\")\n",
        "print(y1_matrices)\n",
        "\n",
        "# convert the result back to binary strings\n",
        "y1_binary_strings = [''.join(map(str, y1_matrix.flatten().astype(int))) for y1_matrix in y1_matrices]\n",
        "\n",
        "print(\"\\n And here is a binary string for each vector: \\n\")\n",
        "# print the result\n",
        "for i, y1_binary_string in enumerate(y1_binary_strings, start=1):\n",
        "    print(f\"y{i}_1: {y1_binary_string}\")\n"
      ],
      "metadata": {
        "colab": {
          "base_uri": "https://localhost:8080/"
        },
        "id": "Y1fq7HpIceKU",
        "outputId": "b050ddc5-d9b1-4473-eb68-d43e5ca9e383"
      },
      "execution_count": 4,
      "outputs": [
        {
          "output_type": "stream",
          "name": "stdout",
          "text": [
            "\n",
            " P inverse:\n",
            "[[0. 0. 0. 0. 0. 1. 0.]\n",
            " [0. 1. 0. 0. 0. 0. 0.]\n",
            " [0. 0. 1. 0. 0. 0. 0.]\n",
            " [0. 0. 0. 0. 1. 0. 0.]\n",
            " [0. 0. 0. 1. 0. 0. 0.]\n",
            " [0. 0. 0. 0. 0. 0. 1.]\n",
            " [1. 0. 0. 0. 0. 0. 0.]]\n",
            "\n",
            " We calculated y_1 = y * P^(-1) for each y_i: \n",
            "\n",
            "[array([1., 1., 0., 0., 1., 0., 0.]), array([1., 1., 1., 1., 1., 0., 0.]), array([0., 1., 0., 0., 1., 0., 0.]), array([1., 1., 0., 0., 1., 0., 1.]), array([1., 1., 0., 1., 0., 1., 1.]), array([1., 1., 0., 0., 1., 0., 0.]), array([0., 1., 1., 1., 1., 0., 0.]), array([1., 1., 1., 0., 1., 0., 1.]), array([0., 1., 1., 1., 1., 0., 1.]), array([1., 0., 1., 0., 1., 0., 0.]), array([1., 1., 1., 1., 0., 1., 1.]), array([1., 1., 1., 0., 1., 1., 0.])]\n",
            "\n",
            " And here is a binary string for each vector: \n",
            "\n",
            "y1_1: 1100100\n",
            "y2_1: 1111100\n",
            "y3_1: 0100100\n",
            "y4_1: 1100101\n",
            "y5_1: 1101011\n",
            "y6_1: 1100100\n",
            "y7_1: 0111100\n",
            "y8_1: 1110101\n",
            "y9_1: 0111101\n",
            "y10_1: 1010100\n",
            "y11_1: 1111011\n",
            "y12_1: 1110110\n"
          ]
        }
      ]
    },
    {
      "cell_type": "markdown",
      "source": [
        "LUT Implementation"
      ],
      "metadata": {
        "id": "jrqAEgOQ2-Po"
      }
    },
    {
      "cell_type": "code",
      "source": [
        "# initialize the LUT\n",
        "lut = {}\n",
        "\n",
        "# consider the all-zero error vector\n",
        "zero_error_vector = np.zeros(G.shape[1], dtype=int)\n",
        "zero_syndrome = tuple(np.dot(zero_error_vector, H) % 2)\n",
        "lut[zero_syndrome] = zero_error_vector.tolist()\n",
        "\n",
        "# consider the n error vectors of weight 1\n",
        "n = G.shape[1]  # number of columns in G\n",
        "\n",
        "print(\"H matrix:\")\n",
        "print(H)\n",
        "\n",
        "for i in range(n):\n",
        "    error_vector = np.zeros(n, dtype=int)\n",
        "    error_vector[i] = 1\n",
        "    print(\"Error vector:\")\n",
        "    print(error_vector)\n",
        "\n",
        "    # compute the syndrome s = e * H\n",
        "    syndrome = tuple(np.dot(error_vector, H) % 2)\n",
        "    print(\"Corresponding syndrom:\")\n",
        "    print(syndrome, \"\\n\")\n",
        "    # store the syndrome and error vector in the LUT\n",
        "    lut[syndrome] = error_vector.tolist()\n",
        "\n",
        "print(\"\\n This is LUT:\")\n",
        "print(lut)"
      ],
      "metadata": {
        "colab": {
          "base_uri": "https://localhost:8080/"
        },
        "id": "rQX7U-0TXRO0",
        "outputId": "cd9e401f-e67c-45b1-d61e-1a64c9e2a7a7"
      },
      "execution_count": 7,
      "outputs": [
        {
          "output_type": "stream",
          "name": "stdout",
          "text": [
            "H matrix:\n",
            "[[0 1 1]\n",
            " [1 0 0]\n",
            " [0 0 1]\n",
            " [1 1 1]\n",
            " [1 1 0]\n",
            " [1 0 1]\n",
            " [0 1 0]]\n",
            "Error vector:\n",
            "[1 0 0 0 0 0 0]\n",
            "Corresponding syndrom:\n",
            "(0, 1, 1) \n",
            "\n",
            "Error vector:\n",
            "[0 1 0 0 0 0 0]\n",
            "Corresponding syndrom:\n",
            "(1, 0, 0) \n",
            "\n",
            "Error vector:\n",
            "[0 0 1 0 0 0 0]\n",
            "Corresponding syndrom:\n",
            "(0, 0, 1) \n",
            "\n",
            "Error vector:\n",
            "[0 0 0 1 0 0 0]\n",
            "Corresponding syndrom:\n",
            "(1, 1, 1) \n",
            "\n",
            "Error vector:\n",
            "[0 0 0 0 1 0 0]\n",
            "Corresponding syndrom:\n",
            "(1, 1, 0) \n",
            "\n",
            "Error vector:\n",
            "[0 0 0 0 0 1 0]\n",
            "Corresponding syndrom:\n",
            "(1, 0, 1) \n",
            "\n",
            "Error vector:\n",
            "[0 0 0 0 0 0 1]\n",
            "Corresponding syndrom:\n",
            "(0, 1, 0) \n",
            "\n",
            "\n",
            " This is LUT:\n",
            "{(0, 0, 0): [0, 0, 0, 0, 0, 0, 0], (0, 1, 1): [1, 0, 0, 0, 0, 0, 0], (1, 0, 0): [0, 1, 0, 0, 0, 0, 0], (0, 0, 1): [0, 0, 1, 0, 0, 0, 0], (1, 1, 1): [0, 0, 0, 1, 0, 0, 0], (1, 1, 0): [0, 0, 0, 0, 1, 0, 0], (1, 0, 1): [0, 0, 0, 0, 0, 1, 0], (0, 1, 0): [0, 0, 0, 0, 0, 0, 1]}\n"
          ]
        }
      ]
    },
    {
      "cell_type": "markdown",
      "source": [
        "This piece of code is implemented in order to recover the information vector from codeword.\n",
        "Actually it works similar to gflineq(G',c',2) in Matlab."
      ],
      "metadata": {
        "id": "OXp13zaW3Iz4"
      }
    },
    {
      "cell_type": "code",
      "source": [
        "def gf2_add(a, b):\n",
        "    return np.bitwise_xor(a, b)\n",
        "\n",
        "def gf2_multiply(a, b):\n",
        "    return np.bitwise_and(a, b)\n",
        "\n",
        "def gf2_solve(G, c):\n",
        "    n, m = G.shape\n",
        "\n",
        "    # augment the matrix G with vector c\n",
        "    augmented_matrix = np.hstack((G, c.reshape(-1, 1)))\n",
        "\n",
        "    # gaussian elimination in GF(2)\n",
        "    for i in range(min(n, m)):\n",
        "        pivot_row = next((j for j in range(i, n) if augmented_matrix[j, i] == 1), None)\n",
        "        if pivot_row is None:\n",
        "            raise ValueError(\"Matrix is not invertible\")\n",
        "\n",
        "        augmented_matrix[[i, pivot_row], :] = augmented_matrix[[pivot_row, i], :]\n",
        "\n",
        "        for j in range(n):\n",
        "            if j != i and augmented_matrix[j, i] == 1:\n",
        "                augmented_matrix[j, :] = gf2_add(augmented_matrix[j, :], augmented_matrix[i, :])\n",
        "\n",
        "    # back-substitution\n",
        "    solution_GF2 = np.zeros(m, dtype=int)\n",
        "    for i in range(min(n, m)-1, -1, -1):\n",
        "        solution_GF2[i] = augmented_matrix[i, -1]\n",
        "        for j in range(i + 1, m):\n",
        "            if augmented_matrix[i, j] == 1:\n",
        "                solution_GF2[i] = gf2_add(solution_GF2[i], gf2_multiply(augmented_matrix[i, j], solution_GF2[j]))\n",
        "\n",
        "    return solution_GF2\n"
      ],
      "metadata": {
        "id": "Hl5l-K-tXRRG"
      },
      "execution_count": 8,
      "outputs": []
    },
    {
      "cell_type": "markdown",
      "source": [
        "In the for loop for each vector we calculated v1 by computing the syndrome and extracting the error vector, and calculating the codeword which is c1 = y1 + error_vector."
      ],
      "metadata": {
        "id": "b8mPir_-328d"
      }
    },
    {
      "cell_type": "code",
      "source": [
        "# initialize the decoded matrices\n",
        "v1_decoded_matrices = []\n",
        "\n",
        "print(\"H matrix:\")\n",
        "print(H)\n",
        "\n",
        "# syndrome decoding for each y1_matrix\n",
        "for i, y1_matrix in enumerate(y1_matrices):\n",
        "    print(\"\\n This is our y1:\")\n",
        "    print(y1_matrix)\n",
        "\n",
        "    # compute the syndrome s = y1_matrix * H\n",
        "    syndrome = np.dot(y1_matrix, H) % 2\n",
        "    print(\"calculated syndrome:\")\n",
        "    print(syndrome)\n",
        "\n",
        "    # obtain the corresponding error vector e from the LUT\n",
        "    error_vector = lut[tuple(syndrome)]\n",
        "    print(\"corresponding error vector:\")\n",
        "    print(error_vector)\n",
        "\n",
        "    # obtain the received codeword c1 = y1 + e\n",
        "    received_codeword = (y1_matrix + error_vector) % 2\n",
        "    print(\"This is codeword\")\n",
        "    print(received_codeword)\n",
        "\n",
        "    # make codeword items to integer items\n",
        "    c = []\n",
        "    for i in received_codeword:\n",
        "      x = int(i)\n",
        "      c.append(x)\n",
        "\n",
        "\n",
        "    # obtain the corresponding information vector v\n",
        "    v1_decoded_matrix = gf2_solve(G.T, np.array(c).T).astype(int)\n",
        "\n",
        "    print(\"This is calculated v1:\")\n",
        "    print(v1_decoded_matrix)\n",
        "\n",
        "    v1_decoded_matrices.append(np.array(v1_decoded_matrix))\n",
        "\n",
        "# print the decoded matrices\n",
        "for i, j in enumerate(v1_decoded_matrices, start=1):\n",
        "    print(f\"v{i}_decoded: {j}\")"
      ],
      "metadata": {
        "colab": {
          "base_uri": "https://localhost:8080/"
        },
        "id": "KwZWOyKhXRTb",
        "outputId": "6f58ee76-27c7-4c20-cd17-dd47560c59ed"
      },
      "execution_count": 9,
      "outputs": [
        {
          "output_type": "stream",
          "name": "stdout",
          "text": [
            "H matrix:\n",
            "[[0 1 1]\n",
            " [1 0 0]\n",
            " [0 0 1]\n",
            " [1 1 1]\n",
            " [1 1 0]\n",
            " [1 0 1]\n",
            " [0 1 0]]\n",
            "\n",
            " This is our y1:\n",
            "[1. 1. 0. 0. 1. 0. 0.]\n",
            "calculated syndrome:\n",
            "[0. 0. 1.]\n",
            "corresponding error vector:\n",
            "[0, 0, 1, 0, 0, 0, 0]\n",
            "This is codeword\n",
            "[1. 1. 1. 0. 1. 0. 0.]\n",
            "This is calculated v1:\n",
            "[1 0 1 1]\n",
            "\n",
            " This is our y1:\n",
            "[1. 1. 1. 1. 1. 0. 0.]\n",
            "calculated syndrome:\n",
            "[1. 1. 1.]\n",
            "corresponding error vector:\n",
            "[0, 0, 0, 1, 0, 0, 0]\n",
            "This is codeword\n",
            "[1. 1. 1. 0. 1. 0. 0.]\n",
            "This is calculated v1:\n",
            "[1 0 1 1]\n",
            "\n",
            " This is our y1:\n",
            "[0. 1. 0. 0. 1. 0. 0.]\n",
            "calculated syndrome:\n",
            "[0. 1. 0.]\n",
            "corresponding error vector:\n",
            "[0, 0, 0, 0, 0, 0, 1]\n",
            "This is codeword\n",
            "[0. 1. 0. 0. 1. 0. 1.]\n",
            "This is calculated v1:\n",
            "[1 0 1 0]\n",
            "\n",
            " This is our y1:\n",
            "[1. 1. 0. 0. 1. 0. 1.]\n",
            "calculated syndrome:\n",
            "[0. 1. 1.]\n",
            "corresponding error vector:\n",
            "[1, 0, 0, 0, 0, 0, 0]\n",
            "This is codeword\n",
            "[0. 1. 0. 0. 1. 0. 1.]\n",
            "This is calculated v1:\n",
            "[1 0 1 0]\n",
            "\n",
            " This is our y1:\n",
            "[1. 1. 0. 1. 0. 1. 1.]\n",
            "calculated syndrome:\n",
            "[1. 1. 1.]\n",
            "corresponding error vector:\n",
            "[0, 0, 0, 1, 0, 0, 0]\n",
            "This is codeword\n",
            "[1. 1. 0. 0. 0. 1. 1.]\n",
            "This is calculated v1:\n",
            "[1 0 0 1]\n",
            "\n",
            " This is our y1:\n",
            "[1. 1. 0. 0. 1. 0. 0.]\n",
            "calculated syndrome:\n",
            "[0. 0. 1.]\n",
            "corresponding error vector:\n",
            "[0, 0, 1, 0, 0, 0, 0]\n",
            "This is codeword\n",
            "[1. 1. 1. 0. 1. 0. 0.]\n",
            "This is calculated v1:\n",
            "[1 0 1 1]\n",
            "\n",
            " This is our y1:\n",
            "[0. 1. 1. 1. 1. 0. 0.]\n",
            "calculated syndrome:\n",
            "[1. 0. 0.]\n",
            "corresponding error vector:\n",
            "[0, 1, 0, 0, 0, 0, 0]\n",
            "This is codeword\n",
            "[0. 0. 1. 1. 1. 0. 0.]\n",
            "This is calculated v1:\n",
            "[1 1 1 1]\n",
            "\n",
            " This is our y1:\n",
            "[1. 1. 1. 0. 1. 0. 1.]\n",
            "calculated syndrome:\n",
            "[0. 1. 0.]\n",
            "corresponding error vector:\n",
            "[0, 0, 0, 0, 0, 0, 1]\n",
            "This is codeword\n",
            "[1. 1. 1. 0. 1. 0. 0.]\n",
            "This is calculated v1:\n",
            "[1 0 1 1]\n",
            "\n",
            " This is our y1:\n",
            "[0. 1. 1. 1. 1. 0. 1.]\n",
            "calculated syndrome:\n",
            "[1. 1. 0.]\n",
            "corresponding error vector:\n",
            "[0, 0, 0, 0, 1, 0, 0]\n",
            "This is codeword\n",
            "[0. 1. 1. 1. 0. 0. 1.]\n",
            "This is calculated v1:\n",
            "[0 1 0 1]\n",
            "\n",
            " This is our y1:\n",
            "[1. 0. 1. 0. 1. 0. 0.]\n",
            "calculated syndrome:\n",
            "[1. 0. 0.]\n",
            "corresponding error vector:\n",
            "[0, 1, 0, 0, 0, 0, 0]\n",
            "This is codeword\n",
            "[1. 1. 1. 0. 1. 0. 0.]\n",
            "This is calculated v1:\n",
            "[1 0 1 1]\n",
            "\n",
            " This is our y1:\n",
            "[1. 1. 1. 1. 0. 1. 1.]\n",
            "calculated syndrome:\n",
            "[1. 1. 0.]\n",
            "corresponding error vector:\n",
            "[0, 0, 0, 0, 1, 0, 0]\n",
            "This is codeword\n",
            "[1. 1. 1. 1. 1. 1. 1.]\n",
            "This is calculated v1:\n",
            "[0 1 1 0]\n",
            "\n",
            " This is our y1:\n",
            "[1. 1. 1. 0. 1. 1. 0.]\n",
            "calculated syndrome:\n",
            "[1. 0. 1.]\n",
            "corresponding error vector:\n",
            "[0, 0, 0, 0, 0, 1, 0]\n",
            "This is codeword\n",
            "[1. 1. 1. 0. 1. 0. 0.]\n",
            "This is calculated v1:\n",
            "[1 0 1 1]\n",
            "v1_decoded: [1 0 1 1]\n",
            "v2_decoded: [1 0 1 1]\n",
            "v3_decoded: [1 0 1 0]\n",
            "v4_decoded: [1 0 1 0]\n",
            "v5_decoded: [1 0 0 1]\n",
            "v6_decoded: [1 0 1 1]\n",
            "v7_decoded: [1 1 1 1]\n",
            "v8_decoded: [1 0 1 1]\n",
            "v9_decoded: [0 1 0 1]\n",
            "v10_decoded: [1 0 1 1]\n",
            "v11_decoded: [0 1 1 0]\n",
            "v12_decoded: [1 0 1 1]\n"
          ]
        }
      ]
    },
    {
      "cell_type": "markdown",
      "source": [
        "Obtain vhat = (v_1)*(S_inverse)\n",
        "First we calculated the inverse of matrix S then multiply S_inverse and v in GF(2)"
      ],
      "metadata": {
        "id": "HhShgj-Y5HKE"
      }
    },
    {
      "cell_type": "code",
      "source": [
        "def gf2_matrix_multiply(A, B):\n",
        "    result = np.zeros_like(A, dtype=int)\n",
        "\n",
        "    for i in range(A.shape[0]):\n",
        "        for j in range(B.shape[1]):\n",
        "            result[i, j] = np.bitwise_xor.reduce(gf2_multiply(A[i, :], B[:, j]))\n",
        "\n",
        "    return result\n",
        "\n",
        "matrix_A = np.array(v1_decoded_matrices, dtype=int)\n",
        "\n",
        "# inverse of S\n",
        "S_inv = inv(S)\n",
        "\n",
        "matrix_B = np.array(S_inv, dtype=int)\n",
        "\n",
        "# multiply matrices in GF(2)\n",
        "result_matrix = gf2_matrix_multiply(matrix_A, matrix_B)\n",
        "\n",
        "print(\"v1:\")\n",
        "print(matrix_A)\n",
        "print(\"\\nS inverse:\")\n",
        "print(matrix_B)\n",
        "print(\"\\nResult Matrix (GF(2)):\")\n",
        "print(result_matrix)\n"
      ],
      "metadata": {
        "colab": {
          "base_uri": "https://localhost:8080/"
        },
        "id": "1FJ_tgDMYlyT",
        "outputId": "6711610e-eb7d-43c5-8964-ddc2ae495241"
      },
      "execution_count": 11,
      "outputs": [
        {
          "output_type": "stream",
          "name": "stdout",
          "text": [
            "v:\n",
            "[[1 0 1 1]\n",
            " [1 0 1 1]\n",
            " [1 0 1 0]\n",
            " [1 0 1 0]\n",
            " [1 0 0 1]\n",
            " [1 0 1 1]\n",
            " [1 1 1 1]\n",
            " [1 0 1 1]\n",
            " [0 1 0 1]\n",
            " [1 0 1 1]\n",
            " [0 1 1 0]\n",
            " [1 0 1 1]]\n",
            "\n",
            "S inverse:\n",
            "[[-1  1  0  0]\n",
            " [ 0  0  0  1]\n",
            " [ 0 -1  1  0]\n",
            " [ 1  0  0  0]]\n",
            "\n",
            "Result Matrix (GF(2)):\n",
            "[[0 0 1 0]\n",
            " [0 0 1 0]\n",
            " [1 0 1 0]\n",
            " [1 0 1 0]\n",
            " [0 1 0 0]\n",
            " [0 0 1 0]\n",
            " [0 0 1 1]\n",
            " [0 0 1 0]\n",
            " [1 0 0 1]\n",
            " [0 0 1 0]\n",
            " [0 1 1 1]\n",
            " [0 0 1 0]]\n"
          ]
        }
      ]
    },
    {
      "cell_type": "markdown",
      "source": [
        "Collect together all information vectors vhat, the applied the ASCII decoding to obtain the name of the city"
      ],
      "metadata": {
        "id": "7cQUOI1U6kEX"
      }
    },
    {
      "cell_type": "markdown",
      "source": [
        "\n",
        "1.   First we change the shape of v_hat and extract every paires of it. so it will be 6 pairs as v_hat has shape 12x4.\n",
        "\n",
        "2.   Then for each pair flip them and then change the order of 2 vectors.\n",
        "Now we can combine them together and calculate the decimal value of each pair which is 8 bit.\n",
        "\n",
        "3.   Now we can find the corresponding char of the decimal value.\n",
        "\n",
        "\n",
        "\n"
      ],
      "metadata": {
        "id": "v7v-u2K682l4"
      }
    },
    {
      "cell_type": "code",
      "source": [
        "matrix_v = np.array(result_matrix)\n",
        "print(\"This is V:\")\n",
        "print(matrix_v)\n",
        "# reshape v to create pairs of vectors\n",
        "pairs = matrix_v.reshape(-1, 2, matrix_v.shape[1])\n",
        "\n",
        "# process each pair of vectors\n",
        "result_word = \"\"\n",
        "for pair in pairs:\n",
        "    print(\"\\n This pair:\")\n",
        "    print(pair)\n",
        "    # reverse the bits of each vector from the right\n",
        "    reversed_vectors = np.flip(pair, axis=1)\n",
        "    print(\"Reserved vector:\")\n",
        "    print(reversed_vectors)\n",
        "\n",
        "    reversed_vectors = np.flip(reversed_vectors, axis=0)\n",
        "\n",
        "    print(\"Change the order of vectors:\")\n",
        "    print(reversed_vectors)\n",
        "\n",
        "    # convert the reversed vectors to a single binary string\n",
        "    binary_string = ''.join(map(str, reversed_vectors.flatten()))\n",
        "    print(\"Combine:\")\n",
        "    print(binary_string)\n",
        "    # convert the binary string to decimal and then to ASCII\n",
        "    combined_decimal = int(binary_string, 2)\n",
        "    print(\"Deecimal value:\")\n",
        "    print(combined_decimal)\n",
        "    result_word += chr(combined_decimal)\n"
      ],
      "metadata": {
        "colab": {
          "base_uri": "https://localhost:8080/"
        },
        "id": "Kw7dORFhZAWg",
        "outputId": "2e1a53a4-a723-4e09-f2a6-e3c41bb8194f"
      },
      "execution_count": 15,
      "outputs": [
        {
          "output_type": "stream",
          "name": "stdout",
          "text": [
            "This is V:\n",
            "[[0 0 1 0]\n",
            " [0 0 1 0]\n",
            " [1 0 1 0]\n",
            " [1 0 1 0]\n",
            " [0 1 0 0]\n",
            " [0 0 1 0]\n",
            " [0 0 1 1]\n",
            " [0 0 1 0]\n",
            " [1 0 0 1]\n",
            " [0 0 1 0]\n",
            " [0 1 1 1]\n",
            " [0 0 1 0]]\n",
            "\n",
            " This pair:\n",
            "[[0 0 1 0]\n",
            " [0 0 1 0]]\n",
            "Reserved vector:\n",
            "[[0 1 0 0]\n",
            " [0 1 0 0]]\n",
            "Change the order of vectors:\n",
            "[[0 1 0 0]\n",
            " [0 1 0 0]]\n",
            "Combine:\n",
            "01000100\n",
            "Deecimal value:\n",
            "68\n",
            "\n",
            " This pair:\n",
            "[[1 0 1 0]\n",
            " [1 0 1 0]]\n",
            "Reserved vector:\n",
            "[[0 1 0 1]\n",
            " [0 1 0 1]]\n",
            "Change the order of vectors:\n",
            "[[0 1 0 1]\n",
            " [0 1 0 1]]\n",
            "Combine:\n",
            "01010101\n",
            "Deecimal value:\n",
            "85\n",
            "\n",
            " This pair:\n",
            "[[0 1 0 0]\n",
            " [0 0 1 0]]\n",
            "Reserved vector:\n",
            "[[0 0 1 0]\n",
            " [0 1 0 0]]\n",
            "Change the order of vectors:\n",
            "[[0 1 0 0]\n",
            " [0 0 1 0]]\n",
            "Combine:\n",
            "01000010\n",
            "Deecimal value:\n",
            "66\n",
            "\n",
            " This pair:\n",
            "[[0 0 1 1]\n",
            " [0 0 1 0]]\n",
            "Reserved vector:\n",
            "[[1 1 0 0]\n",
            " [0 1 0 0]]\n",
            "Change the order of vectors:\n",
            "[[0 1 0 0]\n",
            " [1 1 0 0]]\n",
            "Combine:\n",
            "01001100\n",
            "Deecimal value:\n",
            "76\n",
            "\n",
            " This pair:\n",
            "[[1 0 0 1]\n",
            " [0 0 1 0]]\n",
            "Reserved vector:\n",
            "[[1 0 0 1]\n",
            " [0 1 0 0]]\n",
            "Change the order of vectors:\n",
            "[[0 1 0 0]\n",
            " [1 0 0 1]]\n",
            "Combine:\n",
            "01001001\n",
            "Deecimal value:\n",
            "73\n",
            "\n",
            " This pair:\n",
            "[[0 1 1 1]\n",
            " [0 0 1 0]]\n",
            "Reserved vector:\n",
            "[[1 1 1 0]\n",
            " [0 1 0 0]]\n",
            "Change the order of vectors:\n",
            "[[0 1 0 0]\n",
            " [1 1 1 0]]\n",
            "Combine:\n",
            "01001110\n",
            "Deecimal value:\n",
            "78\n"
          ]
        }
      ]
    },
    {
      "cell_type": "markdown",
      "source": [
        "Final result:"
      ],
      "metadata": {
        "id": "51uRMrhB-weP"
      }
    },
    {
      "cell_type": "code",
      "source": [
        "# print the result\n",
        "print(\"City name:\", result_word)"
      ],
      "metadata": {
        "colab": {
          "base_uri": "https://localhost:8080/"
        },
        "id": "MYiCldT0-yV1",
        "outputId": "4d04d9af-aced-4983-fdbc-1b17710bb306"
      },
      "execution_count": 17,
      "outputs": [
        {
          "output_type": "stream",
          "name": "stdout",
          "text": [
            "City name: DUBLIN\n"
          ]
        }
      ]
    }
  ]
}